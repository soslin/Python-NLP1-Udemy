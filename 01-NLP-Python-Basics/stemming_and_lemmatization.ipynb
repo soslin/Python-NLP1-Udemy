{
 "cells": [
  {
   "cell_type": "markdown",
   "metadata": {},
   "source": [
    "## Stemming"
   ]
  },
  {
   "cell_type": "code",
   "execution_count": 2,
   "metadata": {},
   "outputs": [],
   "source": [
    "import nltk #Spacy does not use a stemmer, only lemmatization"
   ]
  },
  {
   "cell_type": "code",
   "execution_count": 3,
   "metadata": {},
   "outputs": [],
   "source": [
    "from nltk.stem.porter import PorterStemmer"
   ]
  },
  {
   "cell_type": "code",
   "execution_count": 4,
   "metadata": {},
   "outputs": [],
   "source": [
    "p_stemmer = PorterStemmer()"
   ]
  },
  {
   "cell_type": "code",
   "execution_count": 6,
   "metadata": {},
   "outputs": [],
   "source": [
    "words = ['run', 'runner', 'ran', 'runs', 'easily', 'fairly']"
   ]
  },
  {
   "cell_type": "code",
   "execution_count": 8,
   "metadata": {},
   "outputs": [
    {
     "name": "stdout",
     "output_type": "stream",
     "text": [
      "run ------> run\n",
      "runner ------> runner\n",
      "ran ------> ran\n",
      "runs ------> run\n",
      "easily ------> easili\n",
      "fairly ------> fairli\n"
     ]
    }
   ],
   "source": [
    "for word in words:\n",
    "    print(word + ' ------> ' + p_stemmer.stem(word))"
   ]
  },
  {
   "cell_type": "code",
   "execution_count": 9,
   "metadata": {},
   "outputs": [],
   "source": [
    "from nltk.stem.snowball import SnowballStemmer #more advanced stemmer"
   ]
  },
  {
   "cell_type": "code",
   "execution_count": 10,
   "metadata": {},
   "outputs": [],
   "source": [
    "s_stemmer = SnowballStemmer(language = 'english')"
   ]
  },
  {
   "cell_type": "code",
   "execution_count": 12,
   "metadata": {},
   "outputs": [
    {
     "name": "stdout",
     "output_type": "stream",
     "text": [
      "run ------> run\n",
      "runner ------> runner\n",
      "ran ------> ran\n",
      "runs ------> run\n",
      "easily ------> easili\n",
      "fairly ------> fair\n"
     ]
    }
   ],
   "source": [
    "for word in words:\n",
    "    print(word + ' ------> ' + s_stemmer.stem(word))"
   ]
  },
  {
   "cell_type": "code",
   "execution_count": 13,
   "metadata": {},
   "outputs": [],
   "source": [
    "words2 = ['generous', 'generate', 'generously', 'generation']"
   ]
  },
  {
   "cell_type": "code",
   "execution_count": 15,
   "metadata": {},
   "outputs": [
    {
     "name": "stdout",
     "output_type": "stream",
     "text": [
      "generous ------> generous\n",
      "generate ------> generat\n",
      "generously ------> generous\n",
      "generation ------> generat\n"
     ]
    }
   ],
   "source": [
    "for word in words2:\n",
    "    print(word + ' ------> ' + s_stemmer.stem(word))"
   ]
  },
  {
   "cell_type": "markdown",
   "metadata": {},
   "source": [
    "## Lemmatization"
   ]
  },
  {
   "cell_type": "code",
   "execution_count": 20,
   "metadata": {},
   "outputs": [],
   "source": [
    "import spacy\n",
    "nlp = spacy.load('en_core_web_sm')"
   ]
  },
  {
   "cell_type": "code",
   "execution_count": 21,
   "metadata": {},
   "outputs": [],
   "source": [
    "doc1 = nlp(u'I am a runner running in races because I ran a race today.')"
   ]
  },
  {
   "cell_type": "code",
   "execution_count": 30,
   "metadata": {},
   "outputs": [
    {
     "name": "stdout",
     "output_type": "stream",
     "text": [
      "I \t PRON \t 561228191312463089 \t -PRON-\n",
      "am \t AUX \t 10382539506755952630 \t be\n",
      "a \t DET \t 11901859001352538922 \t a\n",
      "runner \t NOUN \t 12640964157389618806 \t runner\n",
      "running \t VERB \t 12767647472892411841 \t run\n",
      "in \t ADP \t 3002984154512732771 \t in\n",
      "races \t NOUN \t 8048469955494714898 \t race\n",
      "because \t SCONJ \t 16950148841647037698 \t because\n",
      "I \t PRON \t 561228191312463089 \t -PRON-\n",
      "ran \t VERB \t 12767647472892411841 \t run\n",
      "a \t DET \t 11901859001352538922 \t a\n",
      "race \t NOUN \t 8048469955494714898 \t race\n",
      "today \t NOUN \t 11042482332948150395 \t today\n",
      ". \t PUNCT \t 12646065887601541794 \t .\n"
     ]
    }
   ],
   "source": [
    "for token in doc1:\n",
    "    print(token, '\\t', token.pos_, '\\t', token.lemma, '\\t', token.lemma_)"
   ]
  },
  {
   "cell_type": "markdown",
   "metadata": {},
   "source": [
    "Better formatted version"
   ]
  },
  {
   "cell_type": "code",
   "execution_count": 36,
   "metadata": {},
   "outputs": [],
   "source": [
    "def show_lemmas(text):\n",
    "    for token in text:\n",
    "        print(f'{token.text:{12}} {token.pos_:{6}} {token.lemma:<{22}} {token.lemma_}')\n",
    "    return(token)"
   ]
  },
  {
   "cell_type": "code",
   "execution_count": 37,
   "metadata": {},
   "outputs": [
    {
     "name": "stdout",
     "output_type": "stream",
     "text": [
      "I            PRON   561228191312463089     -PRON-\n",
      "am           AUX    10382539506755952630   be\n",
      "a            DET    11901859001352538922   a\n",
      "runner       NOUN   12640964157389618806   runner\n",
      "running      VERB   12767647472892411841   run\n",
      "in           ADP    3002984154512732771    in\n",
      "races        NOUN   8048469955494714898    race\n",
      "because      SCONJ  16950148841647037698   because\n",
      "I            PRON   561228191312463089     -PRON-\n",
      "ran          VERB   12767647472892411841   run\n",
      "a            DET    11901859001352538922   a\n",
      "race         NOUN   8048469955494714898    race\n",
      "today        NOUN   11042482332948150395   today\n",
      ".            PUNCT  12646065887601541794   .\n"
     ]
    },
    {
     "data": {
      "text/plain": [
       "."
      ]
     },
     "execution_count": 37,
     "metadata": {},
     "output_type": "execute_result"
    }
   ],
   "source": [
    "show_lemmas(doc1)"
   ]
  },
  {
   "cell_type": "markdown",
   "metadata": {},
   "source": [
    "## Stop words"
   ]
  },
  {
   "cell_type": "markdown",
   "metadata": {},
   "source": [
    "Words like 'a' and 'the' that can be filtered from text (305 in total)"
   ]
  },
  {
   "cell_type": "code",
   "execution_count": 39,
   "metadata": {},
   "outputs": [
    {
     "name": "stdout",
     "output_type": "stream",
     "text": [
      "{'what', 'therefore', 'could', 'take', 'otherwise', 'twelve', 'hers', 'i', 'how', 'be', 'latter', '’d', 'nobody', 'name', 'it', 'others', 'whenever', 'go', '‘ve', 'perhaps', 'whom', 'been', 'n’t', 'the', 'thereupon', 'ours', '’re', 'either', 'just', 'their', 'give', 'does', 'also', 'as', 'though', 'a', 'that', 'moreover', 'hereby', 'when', 'mine', 'behind', 'front', 'can', 'made', 'someone', 'nowhere', 'yet', 'then', 'at', 'eight', 'almost', 'whither', 'too', 'enough', 'everything', 'afterwards', 'himself', 're', 'thence', 'hereupon', 'make', 'ca', 'those', 'rather', 'off', 'via', 'seem', 'herein', 'above', 'within', 'often', 'up', 'first', 'to', 'well', 'only', 'whatever', 'hereafter', 'mostly', 'both', 'throughout', 'through', 'would', 'really', 'whence', 'various', 'call', 'must', '‘ll', 'whereby', 'alone', 'together', 'top', 'yours', 'wherever', 'three', 'before', 'them', 'since', 'while', 'not', 'always', 'of', 'nine', 'again', 'where', 'against', 'itself', 'fifty', 'did', \"'re\", 'anything', '’m', 'because', 'nothing', 'was', 'but', 'on', 'everywhere', 'part', 'herself', 'else', 'many', 'keep', 'under', 'out', 'sometime', 'you', 'after', 'further', 'during', 'cannot', '’s', 'will', 'becoming', 'next', 'ourselves', 'or', 'less', 'move', 'empty', 'about', 'used', 'amongst', 'this', 'around', 'have', 'which', \"'d\", 'something', 'seemed', 'whose', 'into', 'neither', 'might', 'along', 'due', 'me', 'sixty', 'namely', 'much', 'one', 'these', 'her', 'everyone', 'therein', 'and', 'are', 'somewhere', 'yourself', 'anyone', 'do', 'thru', 'n‘t', 'all', 'yourselves', 'who', 'they', 'his', 'however', 'upon', 'seeming', 'elsewhere', 'is', 'same', 'see', 'being', 'towards', 'becomes', \"'ve\", 'once', 'onto', 'we', '‘re', 'she', 'ever', 'twenty', \"'ll\", 'put', 'us', 'sometimes', 'had', 'seems', 'here', 'still', 'few', 'across', 'thereby', 'myself', 'every', \"'m\", 'please', 'side', 'become', 'anyway', 'own', 'if', 'per', 'several', 'meanwhile', '‘s', 'in', 'down', 'may', 'whether', 'wherein', 'over', 'without', 'bottom', 'done', 'eleven', 'regarding', 'forty', 'get', 'by', 'none', 'an', 'least', 'whereupon', 'third', 'quite', 'whereafter', 'other', 'never', 'unless', 'he', 'below', 'say', 'more', 'latterly', 'amount', '‘m', 'there', 'serious', 'noone', 'except', 'whereas', 'so', 'thereafter', 'somehow', 'my', 'from', 'now', 'him', 'back', 'nevertheless', 'nor', '‘d', 'anyhow', 'six', 'fifteen', 'formerly', 'most', 'beforehand', 'thus', 'indeed', 'its', 'hundred', 'whoever', 'beyond', 'whole', 'hence', 'another', 'should', \"n't\", 'former', 'no', 'besides', 'show', '’ll', 'between', 'five', 'until', 'already', 'with', 'full', 'why', 'our', 'doing', 'among', 'anywhere', 'am', 'any', 'last', 'such', 'themselves', 'beside', 'your', 'became', 'even', 'than', 'some', 'although', 'two', \"'s\", 'very', 'four', 'each', 'has', 'toward', 'were', 'ten', 'for', 'using', '’ve'}\n"
     ]
    }
   ],
   "source": [
    "print(nlp.Defaults.stop_words)"
   ]
  },
  {
   "cell_type": "markdown",
   "metadata": {},
   "source": [
    "check to see if a stop word"
   ]
  },
  {
   "cell_type": "code",
   "execution_count": 44,
   "metadata": {},
   "outputs": [
    {
     "data": {
      "text/plain": [
       "True"
      ]
     },
     "execution_count": 44,
     "metadata": {},
     "output_type": "execute_result"
    }
   ],
   "source": [
    "nlp.vocab['become'].is_stop # only one word at a time"
   ]
  },
  {
   "cell_type": "markdown",
   "metadata": {},
   "source": [
    "add a stop word - 2 step process"
   ]
  },
  {
   "cell_type": "code",
   "execution_count": 45,
   "metadata": {},
   "outputs": [],
   "source": [
    "nlp.Defaults.stop_words.add('btw')"
   ]
  },
  {
   "cell_type": "code",
   "execution_count": 47,
   "metadata": {},
   "outputs": [],
   "source": [
    "nlp.vocab['btw'].is_stop = True"
   ]
  },
  {
   "cell_type": "code",
   "execution_count": 48,
   "metadata": {},
   "outputs": [
    {
     "data": {
      "text/plain": [
       "True"
      ]
     },
     "execution_count": 48,
     "metadata": {},
     "output_type": "execute_result"
    }
   ],
   "source": [
    "nlp.vocab['btw'].is_stop"
   ]
  },
  {
   "cell_type": "code",
   "execution_count": 49,
   "metadata": {},
   "outputs": [
    {
     "data": {
      "text/plain": [
       "327"
      ]
     },
     "execution_count": 49,
     "metadata": {},
     "output_type": "execute_result"
    }
   ],
   "source": [
    "len(nlp.Defaults.stop_words)"
   ]
  },
  {
   "cell_type": "markdown",
   "metadata": {},
   "source": [
    "Reverse process using 'remove' to delete words from the list"
   ]
  },
  {
   "cell_type": "code",
   "execution_count": null,
   "metadata": {},
   "outputs": [],
   "source": []
  }
 ],
 "metadata": {
  "kernelspec": {
   "display_name": "Python 3",
   "language": "python",
   "name": "python3"
  },
  "language_info": {
   "codemirror_mode": {
    "name": "ipython",
    "version": 3
   },
   "file_extension": ".py",
   "mimetype": "text/x-python",
   "name": "python",
   "nbconvert_exporter": "python",
   "pygments_lexer": "ipython3",
   "version": "3.7.3"
  }
 },
 "nbformat": 4,
 "nbformat_minor": 2
}
